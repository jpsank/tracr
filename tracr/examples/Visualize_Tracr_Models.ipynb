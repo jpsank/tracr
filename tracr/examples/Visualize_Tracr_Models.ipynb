{
  "cells": [
    {
      "cell_type": "markdown",
      "metadata": {
        "id": "99FBiGH7bsfn"
      },
      "source": [
        "# Compiling & Visualizing Tracr Models\n",
        "\n",
        "This notebook demonstrates how to compile a tracr model and provides some tools visualize the model's residual stream or layer outputs for a given input sequence."
      ]
    },
    {
      "cell_type": "code",
      "execution_count": null,
      "metadata": {},
      "outputs": [],
      "source": [
        "!git clone https://github.com/jpsank/tracr\n",
        "!git -C tracr pull\n",
        "!pip install ./tracr\n",
        "# !pip install librosa"
      ]
    },
    {
      "cell_type": "code",
      "execution_count": null,
      "metadata": {
        "id": "qm-PM1PEawCx"
      },
      "outputs": [],
      "source": [
        "#@title Imports\n",
        "import jax\n",
        "import numpy as np\n",
        "import matplotlib.pyplot as plt\n",
        "from scipy.io import wavfile\n",
        "\n",
        "# The default of float16 can lead to discrepancies between outputs of\n",
        "# the compiled model and the RASP program.\n",
        "jax.config.update('jax_default_matmul_precision', 'float32')\n",
        "\n",
        "from tracr.compiler import compiling\n",
        "from tracr.compiler import lib\n",
        "from tracr.rasp import rasp"
      ]
    },
    {
      "cell_type": "code",
      "execution_count": null,
      "metadata": {},
      "outputs": [],
      "source": [
        "# import librosa\n",
        "\n",
        "# # Function to preprocess the audio file by getting decibel levels every 10ms\n",
        "# def preprocess_audio(file_path):\n",
        "#     # Load the audio file\n",
        "#     y, sr = librosa.load(file_path, sr=None)\n",
        "#     # Get amplitude average for every 10ms\n",
        "#     amp = np.sqrt(np.mean(y.reshape(-1, sr//100)**2, axis=1))\n",
        "#     # Get decibel levels\n",
        "#     out = []\n",
        "#     state = 0\n",
        "#     current_sum = 0\n",
        "#     current_len = 0\n",
        "#     for i in range(0, len(amp)):\n",
        "#         if state == 1:  # sound is on\n",
        "#             if amp[i] < 1e-5:\n",
        "#                 state = 0\n",
        "#                 out.append(current_sum/current_len)\n",
        "#             else:\n",
        "#                 decibel = abs(20*np.log10(amp[i]))\n",
        "#                 current_sum += decibel\n",
        "#                 current_len += 1\n",
        "#         elif state == 0:  # silence\n",
        "#             if amp[i] > 1e-5:\n",
        "#                 out.append(0)\n",
        "#                 state = 1\n",
        "#     return out\n"
      ]
    },
    {
      "cell_type": "code",
      "execution_count": null,
      "metadata": {
        "id": "HtOAc_yWawFR"
      },
      "outputs": [],
      "source": [
        "#@title Plotting functions\n",
        "def tidy_label(label, value_width=5):\n",
        "  if ':' in label:\n",
        "    label, value = label.split(':')\n",
        "  else:\n",
        "    value = ''\n",
        "  return label + f\":{value:>{value_width}}\"\n",
        "\n",
        "\n",
        "def add_residual_ticks(model, value_width=5, x=False, y=True):\n",
        "  if y:\n",
        "    plt.yticks(\n",
        "            np.arange(len(model.residual_labels))+0.5, \n",
        "            [tidy_label(l, value_width=value_width)\n",
        "              for l in model.residual_labels], \n",
        "            family='monospace',\n",
        "            fontsize=20,\n",
        "    )\n",
        "  if x:\n",
        "    plt.xticks(\n",
        "            np.arange(len(model.residual_labels))+0.5, \n",
        "            [tidy_label(l, value_width=value_width)\n",
        "              for l in model.residual_labels], \n",
        "            family='monospace',\n",
        "            rotation=90,\n",
        "            fontsize=20,\n",
        "    )\n",
        "\n",
        "\n",
        "def plot_computation_trace(model,\n",
        "                           input_labels,\n",
        "                           residuals_or_outputs,\n",
        "                           add_input_layer=False,\n",
        "                           figsize=(12, 9)):\n",
        "  fig, axes = plt.subplots(nrows=1, ncols=len(residuals_or_outputs), figsize=figsize, sharey=True)\n",
        "  value_width = max(map(len, map(str, input_labels))) + 1\n",
        "\n",
        "  for i, (layer, ax) in enumerate(zip(residuals_or_outputs, axes)):\n",
        "    plt.sca(ax)\n",
        "    plt.pcolormesh(layer[0].T, vmin=0, vmax=1)\n",
        "    if i == 0:\n",
        "      add_residual_ticks(model, value_width=value_width)\n",
        "    plt.xticks(\n",
        "        np.arange(len(input_labels))+0.5,\n",
        "        input_labels,\n",
        "        rotation=90,\n",
        "        fontsize=20,\n",
        "    )\n",
        "    if add_input_layer and i == 0:\n",
        "      title = 'Input'\n",
        "    else:\n",
        "      layer_no = i - 1 if add_input_layer else i\n",
        "      layer_type = 'Attn' if layer_no % 2 == 0 else 'MLP'\n",
        "      title = f'{layer_type} {layer_no // 2 + 1}'\n",
        "    plt.title(title, fontsize=20)\n",
        "\n",
        "\n",
        "def plot_residuals_and_input(model, inputs, figsize=(12, 9)):\n",
        "  \"\"\"Applies model to inputs, and plots the residual stream at each layer.\"\"\"\n",
        "  model_out = model.apply(inputs)\n",
        "  residuals = np.concatenate([model_out.input_embeddings[None, ...],\n",
        "                              model_out.residuals], axis=0)\n",
        "  plot_computation_trace(\n",
        "      model=model,\n",
        "      input_labels=inputs,\n",
        "      residuals_or_outputs=residuals,\n",
        "      add_input_layer=True,\n",
        "      figsize=figsize)\n",
        "\n",
        "\n",
        "def plot_layer_outputs(model, inputs, figsize=(12, 9)):\n",
        "  \"\"\"Applies model to inputs, and plots the outputs of each layer.\"\"\"\n",
        "  model_out = model.apply(inputs)\n",
        "  plot_computation_trace(\n",
        "      model=model,\n",
        "      input_labels=inputs,\n",
        "      residuals_or_outputs=model_out.layer_outputs,\n",
        "      add_input_layer=False,\n",
        "      figsize=figsize)\n"
      ]
    },
    {
      "cell_type": "code",
      "execution_count": null,
      "metadata": {},
      "outputs": [],
      "source": [
        "# def make_apwm() -> rasp.SOp:\n",
        "#   \"\"\"Make the auditory parametric working memory task.\n",
        "#   Input is a raw audio waveform.\n",
        "#   Step 1: Detect stimuli sequences a and b in the input, separated by silence.\n",
        "#   Step 2: Calculate the decibel of the stimuli.\n",
        "#   Step 3: Compare the decibel of the stimuli.\n",
        "#   Returns 1 if the first tone is louder than the second tone, 0 otherwise.\n",
        "#   \"\"\"\n",
        "\n",
        "#   # Get tone A (0.25 - 0.65s)\n",
        "#   sample_rate = 44100  # hard-coded for now\n",
        "#   tone_a_selector = rasp.Select(rasp.indices, rasp.indices, lambda x: 0.25 * sample_rate < x < 0.65 * sample_rate)\n",
        "  \n",
        "#   # Get tone B (-0.85 - -0.45s) starting from the end\n",
        "#   # This requires us to reverse the input sequence\n",
        "#   reversed_sop = lib.make_reverse(rasp.indices)\n",
        "#   tone_b_selector = rasp.Select(reversed_sop, reversed_sop, lambda x: 0.45 * sample_rate < x < 0.85 * sample_rate)\n",
        "\n",
        "#   # Compute root mean square for each tone\n",
        "#   squared = rasp.numerical(rasp.tokens * rasp.tokens)\n",
        "#   tone_a_sum = rasp.Aggregate(tone_a_selector, squared, default=0)\n",
        "#   tone_b_sum = rasp.Aggregate(tone_b_selector, squared, default=0)\n",
        "\n",
        "#   # Compare the decibel of the stimuli\n",
        "#   return rasp.numerical(tone_a_sum > tone_b_sum).named(\"apwm\")\n",
        "\n",
        "def make_clicks() -> rasp.SOp:\n",
        "    \"\"\"Make the pulse clicks task.\n",
        "    Input is a sequence of zeros, ones, and twos, where zeros represent silence,\n",
        "    ones represent a left click, and twos represent a right click.\n",
        "    Step 1: Detect the clicks in the input.\n",
        "    Step 2: Count the number of left and right clicks.\n",
        "    Step 3: Compare the number of left and right clicks.\n",
        "    Returns 1 if there are more left clicks than right clicks, 0 otherwise.\n",
        "    \"\"\"\n",
        "    # Detect the clicks in the input\n",
        "    left_clicks = rasp.Select(rasp.indices, rasp.tokens, lambda x: x == 1)\n",
        "    right_clicks = rasp.Select(rasp.indices, rasp.tokens, lambda x: x == 2)\n",
        "\n",
        "    # Count the number of left and right clicks\n",
        "    left_count = rasp.Aggregate(left_clicks, rasp.numerical(1), default=0)\n",
        "    right_count = rasp.Aggregate(right_clicks, rasp.numerical(1), default=0)\n",
        "\n",
        "    # Compare the number of left and right clicks\n",
        "    return rasp.numerical(left_count > right_count).named(\"clicks\")"
      ]
    },
    {
      "cell_type": "code",
      "execution_count": null,
      "metadata": {
        "cellView": "form",
        "id": "8hV0nv_ISmhM"
      },
      "outputs": [],
      "source": [
        "#@title Define RASP programs\n",
        "def get_program(program_name, max_seq_len):\n",
        "  \"\"\"Returns RASP program and corresponding token vocabulary.\"\"\"\n",
        "  if program_name == \"length\":\n",
        "    vocab = {\"a\", \"b\", \"c\", \"d\"}\n",
        "    program = lib.make_length()\n",
        "  elif program_name == \"frac_prevs\":\n",
        "    vocab = {\"a\", \"b\", \"c\", \"x\"}\n",
        "    program = lib.make_frac_prevs((rasp.tokens == \"x\").named(\"is_x\"))\n",
        "  elif program_name == \"dyck-2\":\n",
        "    vocab = {\"(\", \")\", \"{\", \"}\"}\n",
        "    program = lib.make_shuffle_dyck(pairs=[\"()\", \"{}\"])\n",
        "  elif program_name == \"dyck-3\":\n",
        "    vocab = {\"(\", \")\", \"{\", \"}\", \"[\", \"]\"}\n",
        "    program = lib.make_shuffle_dyck(pairs=[\"()\", \"{}\", \"[]\"])\n",
        "  elif program_name == \"sort\":\n",
        "    vocab = {1, 2, 3, 4, 5}\n",
        "    program = lib.make_sort(\n",
        "        rasp.tokens, rasp.tokens, max_seq_len=max_seq_len, min_key=1)\n",
        "  elif program_name == \"sort_unique\":\n",
        "    vocab = {1, 2, 3, 4, 5}\n",
        "    program = lib.make_sort_unique(rasp.tokens, rasp.tokens)\n",
        "  elif program_name == \"hist\":\n",
        "    vocab = {\"a\", \"b\", \"c\", \"d\"}\n",
        "    program = lib.make_hist()\n",
        "  elif program_name == \"sort_freq\":\n",
        "    vocab = {\"a\", \"b\", \"c\", \"d\"}\n",
        "    program = lib.make_sort_freq(max_seq_len=max_seq_len)\n",
        "  elif program_name == \"pair_balance\":\n",
        "    vocab = {\"(\", \")\"}\n",
        "    program = lib.make_pair_balance(\n",
        "        sop=rasp.tokens, open_token=\"(\", close_token=\")\")\n",
        "  elif program_name == \"clicks\":\n",
        "    vocab = {0, 1, 2}\n",
        "    program = make_clicks()\n",
        "  else:\n",
        "    raise NotImplementedError(f\"Program {program_name} not implemented.\")\n",
        "  return program, vocab"
      ]
    },
    {
      "cell_type": "code",
      "execution_count": null,
      "metadata": {
        "id": "L_m_ufaua9ri"
      },
      "outputs": [],
      "source": [
        "#@title: Assemble model\n",
        "program_name = \"clicks\"  #@param [\"length\", \"frac_prevs\", \"dyck-2\", \"dyck-3\", \"sort\", \"sort_unique\", \"hist\", \"sort_freq\", \"pair_balance\", \"apwm\"]\n",
        "max_seq_len = 100  #@param {label: \"Test\", type: \"integer\"}\n",
        "\n",
        "program, vocab = get_program(program_name=program_name,\n",
        "                             max_seq_len=max_seq_len)\n",
        "\n",
        "print(f\"Compiling...\")\n",
        "print(f\"   Program: {program_name}\")\n",
        "print(f\"   Input vocabulary: {vocab}\")\n",
        "print(f\"   Context size: {max_seq_len}\")\n",
        "\n",
        "assembled_model = compiling.compile_rasp_to_model(\n",
        "      program=program,\n",
        "      vocab=vocab,\n",
        "      max_seq_len=max_seq_len,\n",
        "      causal=False,\n",
        "      compiler_bos=\"bos\",\n",
        "      compiler_pad=\"pad\",\n",
        "      mlp_exactness=100)\n",
        "\n",
        "print(\"Done.\")"
      ]
    },
    {
      "cell_type": "code",
      "execution_count": null,
      "metadata": {},
      "outputs": [],
      "source": [
        "# LOAD SAMPLE\n",
        "# sample_rate, waveform = wavfile.read(\"sample.wav\")\n",
        "def make_sample():\n",
        "    # Make sequence of silence, left clicks, and right clicks (0, 1, 2)\n",
        "    sample = np.random.choice([0, 1, 2], size=np.random.randint(10, 100))\n",
        "    return sample\n",
        "\n",
        "sample = make_sample()\n",
        "# Print whether there are more left clicks than right clicks\n",
        "print(f\"Sample: {sample}\")\n",
        "print(f\"Left clicks: {np.sum(sample == 1)}\")\n",
        "print(f\"Right clicks: {np.sum(sample == 2)}\")\n",
        "\n",
        "input_tokens = [\"bos\"] + list(sample)"
      ]
    },
    {
      "cell_type": "code",
      "execution_count": null,
      "metadata": {
        "id": "wtwiE-JiXF3F"
      },
      "outputs": [],
      "source": [
        "#@title Forward pass\n",
        "assembled_model.apply(input_tokens).decoded"
      ]
    },
    {
      "cell_type": "code",
      "execution_count": null,
      "metadata": {
        "id": "RkEkVcEHa2gf"
      },
      "outputs": [],
      "source": [
        "#@title Plot residual stream\n",
        "plot_residuals_and_input(\n",
        "  model=assembled_model,\n",
        "  inputs=input_tokens,\n",
        "  figsize=(10, 9)\n",
        ")"
      ]
    },
    {
      "cell_type": "code",
      "execution_count": null,
      "metadata": {
        "id": "8c4LakWHa4ey"
      },
      "outputs": [],
      "source": [
        "#@title Plot layer outputs\n",
        "plot_layer_outputs(\n",
        "  model=assembled_model,\n",
        "  inputs = input_tokens,\n",
        "  figsize=(8, 9)\n",
        ")"
      ]
    }
  ],
  "metadata": {
    "colab": {
      "private_outputs": true
    },
    "kernelspec": {
      "display_name": "Python 3",
      "name": "python3"
    },
    "language_info": {
      "codemirror_mode": {
        "name": "ipython",
        "version": 3
      },
      "file_extension": ".py",
      "mimetype": "text/x-python",
      "name": "python",
      "nbconvert_exporter": "python",
      "pygments_lexer": "ipython3",
      "version": "3.12.0"
    }
  },
  "nbformat": 4,
  "nbformat_minor": 0
}
